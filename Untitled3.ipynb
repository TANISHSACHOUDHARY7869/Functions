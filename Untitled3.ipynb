{
  "nbformat": 4,
  "nbformat_minor": 0,
  "metadata": {
    "colab": {
      "provenance": []
    },
    "kernelspec": {
      "name": "python3",
      "display_name": "Python 3"
    },
    "language_info": {
      "name": "python"
    }
  },
  "cells": [
    {
      "cell_type": "markdown",
      "source": [
        "1) What is the difference between a function and a method in Python?\n",
        "Ans:-In Python, functions and methods are both blocks of reusable code, but they differ mainly in how they are defined and called, and what they operate on.\n",
        "\n",
        "🔹 Function:\n",
        ".A function is defined using the def keyword and is not bound to an object.\n",
        ".It can be called independently and used with various types of data.\n",
        "Example:\n",
        "\n"
      ],
      "metadata": {
        "id": "_Blp-ncIrimD"
      }
    },
    {
      "cell_type": "code",
      "source": [
        "def greet(name):\n",
        "    return f\"Hello, {name}!\"\n",
        "\n",
        "print(greet(\"tanisha\"))\n"
      ],
      "metadata": {
        "colab": {
          "base_uri": "https://localhost:8080/"
        },
        "id": "fywUQR8er_8-",
        "outputId": "d0564b63-8524-47c8-f6f8-ade056715627"
      },
      "execution_count": 2,
      "outputs": [
        {
          "output_type": "stream",
          "name": "stdout",
          "text": [
            "Hello, tanisha!\n"
          ]
        }
      ]
    },
    {
      "cell_type": "markdown",
      "source": [
        "🔹 Method:\n",
        ".A method is also defined using the def keyword, but it is associated with an object (usually a class instance).\n",
        ".It is called on an object and often acts on that object’s data.\n",
        "\n",
        "Example:"
      ],
      "metadata": {
        "id": "x2cC3F1Hsn4X"
      }
    },
    {
      "cell_type": "code",
      "source": [
        "class Person:\n",
        "    def greet(self):\n",
        "        return \"Hello!\"\n",
        "\n",
        "p = Person()\n",
        "print(p.greet())  # greet is a method of the Person class\n"
      ],
      "metadata": {
        "colab": {
          "base_uri": "https://localhost:8080/"
        },
        "id": "tHpirowqswbp",
        "outputId": "a659f2dc-526f-45d6-ce04-1723ca3b4865"
      },
      "execution_count": 3,
      "outputs": [
        {
          "output_type": "stream",
          "name": "stdout",
          "text": [
            "Hello!\n"
          ]
        }
      ]
    },
    {
      "cell_type": "markdown",
      "source": [
        "2) Explain the concept of function arguments and parameters in Python.\n",
        "Ans:-In Python, function arguments and parameters are fundamental concepts used when defining and calling functions. Although often used interchangeably, they have distinct meanings:\n",
        "\n",
        "🔹 Parameters:\n",
        ".Parameters are the placeholders listed in a function’s definition.\n",
        ".They define what kind of data the function expects when it's called.\n",
        "\n",
        "Example:\n",
        "\n"
      ],
      "metadata": {
        "id": "t7uVozz1sBcJ"
      }
    },
    {
      "cell_type": "code",
      "source": [
        "def greet(name):  # 'name' is a parameter\n",
        "    print(f\"Hello, {name}!\")\n"
      ],
      "metadata": {
        "id": "mVWBL40Ks03n"
      },
      "execution_count": 5,
      "outputs": []
    },
    {
      "cell_type": "markdown",
      "source": [
        "\n",
        "🔹 Arguments:\n",
        ".Arguments are the actual values you pass to the function when calling it.\n",
        ".These values are assigned to the corresponding parameters.\n",
        "\n",
        "Example:"
      ],
      "metadata": {
        "id": "N3ekKVOOs9jF"
      }
    },
    {
      "cell_type": "code",
      "source": [
        "greet(\"tanisha\")  # \"Alice\" is an argument passed to the parameter 'name'\n"
      ],
      "metadata": {
        "colab": {
          "base_uri": "https://localhost:8080/"
        },
        "id": "QtJyg1aLtFYM",
        "outputId": "16df3e46-beac-4e7c-8c1c-f699867cc6cf"
      },
      "execution_count": 7,
      "outputs": [
        {
          "output_type": "stream",
          "name": "stdout",
          "text": [
            "Hello, tanisha!\n"
          ]
        }
      ]
    },
    {
      "cell_type": "markdown",
      "source": [
        "\n",
        "🔸 Types of Function Arguments in Python:\n",
        "1.Positional arguments – Matched to parameters in order.\n",
        "\n",
        "2.Keyword arguments – Passed using key=value format.\n",
        "\n",
        "3.Default arguments – Parameters that assume a default value if not provided.\n",
        "\n",
        "4.Variable-length arguments:\n",
        "\n",
        ".*args for non-keyword variable arguments.\n",
        "\n",
        ".**kwargs for keyword variable arguments.\n",
        "\n",
        "Example:\n"
      ],
      "metadata": {
        "id": "fSRkqlHftOg6"
      }
    },
    {
      "cell_type": "code",
      "source": [
        "def example(a, b=2, *args, **kwargs):\n",
        "    print(a, b, args, kwargs)\n",
        "\n",
        "example(1, 3, 4, 5, x=10, y=20)\n",
        "# Output: 1 3 (4, 5) {'x': 10, 'y': 20}\n"
      ],
      "metadata": {
        "colab": {
          "base_uri": "https://localhost:8080/"
        },
        "id": "4R3fX6_-tbcQ",
        "outputId": "b22e1662-3e1d-41c2-aba5-d3a6e746a95c"
      },
      "execution_count": 8,
      "outputs": [
        {
          "output_type": "stream",
          "name": "stdout",
          "text": [
            "1 3 (4, 5) {'x': 10, 'y': 20}\n"
          ]
        }
      ]
    },
    {
      "cell_type": "markdown",
      "source": [
        "3. What are the different ways to define and call a function in Python?\n",
        "Ans:-In Python, functions can be defined and called in several different ways depending on how you want to structure your code and pass data. Here's a breakdown:\n",
        "\n",
        "✅ Ways to Define Functions in Python\n",
        "1.Standard Function Definition (using def)\n",
        "\n"
      ],
      "metadata": {
        "id": "_vqH7dsJtfJN"
      }
    },
    {
      "cell_type": "code",
      "source": [
        "def greet(name):\n",
        "    return f\"Hello, {name}!\"\n"
      ],
      "metadata": {
        "id": "OZKljiu2t4mS"
      },
      "execution_count": 9,
      "outputs": []
    },
    {
      "cell_type": "markdown",
      "source": [
        "2.Function with Default Arguments\n",
        "\n"
      ],
      "metadata": {
        "id": "iGwRRwoKt6GC"
      }
    },
    {
      "cell_type": "code",
      "source": [
        "def greet(name=\"Guest\"):\n",
        "    return f\"Hello, {name}!\"\n"
      ],
      "metadata": {
        "id": "-DHcynd0t_do"
      },
      "execution_count": 10,
      "outputs": []
    },
    {
      "cell_type": "markdown",
      "source": [
        "3.Function with Variable-length Arguments\n",
        "\n",
        ".*args collects extra positional arguments\n",
        "\n",
        ".**kwargs collects extra keyword arguments\n",
        "\n",
        "\n"
      ],
      "metadata": {
        "id": "O8jzpxRUuHEg"
      }
    },
    {
      "cell_type": "code",
      "source": [
        "def show_info(*args, **kwargs):\n",
        "    print(\"Positional:\", args)\n",
        "    print(\"Keyword:\", kwargs)\n"
      ],
      "metadata": {
        "id": "X6b3BfYQuOev"
      },
      "execution_count": 11,
      "outputs": []
    },
    {
      "cell_type": "markdown",
      "source": [
        "4.Lambda Function (Anonymous Function)\n",
        "\n"
      ],
      "metadata": {
        "id": "X8igik1RuSEC"
      }
    },
    {
      "cell_type": "code",
      "source": [
        "square = lambda x: x * x\n"
      ],
      "metadata": {
        "id": "ZW2pGFJWugZI"
      },
      "execution_count": 12,
      "outputs": []
    },
    {
      "cell_type": "markdown",
      "source": [
        "5.Function Inside Another Function (Nested Function)\n",
        "\n"
      ],
      "metadata": {
        "id": "Ltz65i-BuhpQ"
      }
    },
    {
      "cell_type": "code",
      "source": [
        "def outer():\n",
        "    def inner():\n",
        "        print(\"Inside inner function\")\n",
        "    inner()\n"
      ],
      "metadata": {
        "id": "Z4MjrXLfvEMo"
      },
      "execution_count": 13,
      "outputs": []
    },
    {
      "cell_type": "markdown",
      "source": [
        "6.Function as Part of a Class (Method)\n",
        "\n"
      ],
      "metadata": {
        "id": "-_pMuCDXwJ9R"
      }
    },
    {
      "cell_type": "code",
      "source": [
        "class Person:\n",
        "    def greet(self, name):\n",
        "        return f\"Hi, {name}\"\n",
        "\n"
      ],
      "metadata": {
        "id": "2_Q0vW6rwbIf"
      },
      "execution_count": 15,
      "outputs": []
    },
    {
      "cell_type": "markdown",
      "source": [
        "✅ Ways to Call Functions in Python\n",
        "\n",
        "\n",
        "1.Simple Call\n",
        "\n",
        "\n",
        "\n",
        "\n"
      ],
      "metadata": {
        "id": "absjYvNKy0OE"
      }
    },
    {
      "cell_type": "code",
      "source": [
        "greet(\"tanisha\")\n"
      ],
      "metadata": {
        "colab": {
          "base_uri": "https://localhost:8080/",
          "height": 36
        },
        "id": "hBNiwxkAy8Ef",
        "outputId": "c2827a8f-7f47-450b-b678-56f9837c73e6"
      },
      "execution_count": 17,
      "outputs": [
        {
          "output_type": "execute_result",
          "data": {
            "text/plain": [
              "'Hello, tanisha!'"
            ],
            "application/vnd.google.colaboratory.intrinsic+json": {
              "type": "string"
            }
          },
          "metadata": {},
          "execution_count": 17
        }
      ]
    },
    {
      "cell_type": "markdown",
      "source": [
        "2.Call with Default Argument\n",
        "\n"
      ],
      "metadata": {
        "id": "P9ojVgENzBbx"
      }
    },
    {
      "cell_type": "code",
      "source": [
        "greet()  # uses default \"Guest\"\n"
      ],
      "metadata": {
        "colab": {
          "base_uri": "https://localhost:8080/",
          "height": 36
        },
        "id": "resbmc10zO4p",
        "outputId": "b52fd5e8-3796-4a56-f3f6-efe6ad62f03d"
      },
      "execution_count": 18,
      "outputs": [
        {
          "output_type": "execute_result",
          "data": {
            "text/plain": [
              "'Hello, Guest!'"
            ],
            "application/vnd.google.colaboratory.intrinsic+json": {
              "type": "string"
            }
          },
          "metadata": {},
          "execution_count": 18
        }
      ]
    },
    {
      "cell_type": "markdown",
      "source": [
        "3.Call with Positional and Keyword Arguments\n",
        "\n"
      ],
      "metadata": {
        "id": "e6GUqGQFzVRG"
      }
    },
    {
      "cell_type": "code",
      "source": [
        "show_info(1, 2, name=\"tanisha\", age=21)\n"
      ],
      "metadata": {
        "colab": {
          "base_uri": "https://localhost:8080/"
        },
        "id": "RrGr0PwqzUoe",
        "outputId": "cab22456-e4e2-41fb-a74e-57128d386e24"
      },
      "execution_count": 20,
      "outputs": [
        {
          "output_type": "stream",
          "name": "stdout",
          "text": [
            "Positional: (1, 2)\n",
            "Keyword: {'name': 'tanisha', 'age': 21}\n"
          ]
        }
      ]
    },
    {
      "cell_type": "markdown",
      "source": [
        "4.Call Using *args and **kwargs Unpacking\n",
        "\n"
      ],
      "metadata": {
        "id": "VheJZADTzSUf"
      }
    },
    {
      "cell_type": "code",
      "source": [
        "def greet(name, age):\n",
        "    print(f\"{name} is {age} years old.\")\n",
        "\n",
        "args = (\"Bob\", 30)\n",
        "greet(*args)\n",
        "\n",
        "kwargs = {\"name\": \"Eve\", \"age\": 25}\n",
        "greet(**kwargs)\n"
      ],
      "metadata": {
        "colab": {
          "base_uri": "https://localhost:8080/"
        },
        "id": "VmxN0rcpzpYX",
        "outputId": "6f6dce04-0b78-4b1a-904c-939bf9c639b9"
      },
      "execution_count": 21,
      "outputs": [
        {
          "output_type": "stream",
          "name": "stdout",
          "text": [
            "Bob is 30 years old.\n",
            "Eve is 25 years old.\n"
          ]
        }
      ]
    },
    {
      "cell_type": "markdown",
      "source": [
        "5.Calling a Lambda Function\n",
        "\n"
      ],
      "metadata": {
        "id": "mJ4XeISSz0Om"
      }
    },
    {
      "cell_type": "code",
      "source": [
        "print(square(5))  # Output: 25\n"
      ],
      "metadata": {
        "colab": {
          "base_uri": "https://localhost:8080/"
        },
        "id": "tN81M9WCz4ib",
        "outputId": "59cce702-db4c-4209-da00-be81a9a21188"
      },
      "execution_count": 22,
      "outputs": [
        {
          "output_type": "stream",
          "name": "stdout",
          "text": [
            "25\n"
          ]
        }
      ]
    },
    {
      "cell_type": "markdown",
      "source": [
        "3) What are the different ways to define and call a function in Python?\n",
        "\n",
        "Ans:- In Python, functions can be defined and called in several different ways depending on your needs. Here's a breakdown of the most common ways to define and call functions:\n",
        "\n",
        "✅ Ways to Define a Function\n",
        "\n",
        "1.Standard Function (using def)\n",
        "\n"
      ],
      "metadata": {
        "id": "HRNfCMV8G-Hw"
      }
    },
    {
      "cell_type": "code",
      "source": [
        "def greet(name):\n",
        "    return f\"Hello, {name}!\"\n"
      ],
      "metadata": {
        "id": "6RUvKy_EHVKz"
      },
      "execution_count": 1,
      "outputs": []
    },
    {
      "cell_type": "markdown",
      "source": [
        "2.Function with Default Parameters\n",
        "\n",
        "\n"
      ],
      "metadata": {
        "id": "WDV2LrYoHZ-t"
      }
    },
    {
      "cell_type": "code",
      "source": [
        "def greet(name=\"Guest\"):\n",
        "    return f\"Hello, {name}!\"\n"
      ],
      "metadata": {
        "id": "vl9o_IRXHf8H"
      },
      "execution_count": 2,
      "outputs": []
    },
    {
      "cell_type": "markdown",
      "source": [
        "3.Function with Variable-length Arguments\n",
        "\n",
        ".*args for multiple positional arguments\n",
        "\n",
        ".**kwargs for multiple keyword arguments\n",
        "\n"
      ],
      "metadata": {
        "id": "Mc33zTvUHin9"
      }
    },
    {
      "cell_type": "code",
      "source": [
        "def show_info(*args, **kwargs):\n",
        "    print(\"Args:\", args)\n",
        "    print(\"Kwargs:\", kwargs)\n"
      ],
      "metadata": {
        "id": "Ok6IKsIuHrdd"
      },
      "execution_count": 3,
      "outputs": []
    },
    {
      "cell_type": "markdown",
      "source": [
        "4.Lambda (Anonymous Function)\n",
        "\n"
      ],
      "metadata": {
        "id": "ktRk5-IiHstp"
      }
    },
    {
      "cell_type": "code",
      "source": [
        "square = lambda x: x * x\n"
      ],
      "metadata": {
        "id": "2ej1CSi4HysJ"
      },
      "execution_count": 4,
      "outputs": []
    },
    {
      "cell_type": "markdown",
      "source": [
        "5.Nested Function\n",
        "\n"
      ],
      "metadata": {
        "id": "zI3W8Df0H1tF"
      }
    },
    {
      "cell_type": "code",
      "source": [
        "def outer():\n",
        "    def inner():\n",
        "        print(\"This is inner\")\n",
        "    inner()"
      ],
      "metadata": {
        "id": "xgMp_WruH6TO"
      },
      "execution_count": 5,
      "outputs": []
    },
    {
      "cell_type": "markdown",
      "source": [
        "6.Class Method (Function inside a class)\n",
        "\n"
      ],
      "metadata": {
        "id": "Fizo9jhJH-Zv"
      }
    },
    {
      "cell_type": "code",
      "source": [
        "class Person:\n",
        "    def greet(self):\n",
        "        return \"Hi!\"\n"
      ],
      "metadata": {
        "id": "1W0Wb96KIF3s"
      },
      "execution_count": 6,
      "outputs": []
    },
    {
      "cell_type": "markdown",
      "source": [
        "✅ Ways to Call a Function\n",
        "\n",
        "1.Simple Call\n",
        "\n"
      ],
      "metadata": {
        "id": "FPD-3h39IHDe"
      }
    },
    {
      "cell_type": "code",
      "source": [
        "greet(\"tanu\")\n"
      ],
      "metadata": {
        "id": "iGIqNNeNIPC0",
        "outputId": "c871c251-ab02-496a-d95d-d4cb4365ebfc",
        "colab": {
          "base_uri": "https://localhost:8080/",
          "height": 36
        }
      },
      "execution_count": 7,
      "outputs": [
        {
          "output_type": "execute_result",
          "data": {
            "text/plain": [
              "'Hello, tanu!'"
            ],
            "application/vnd.google.colaboratory.intrinsic+json": {
              "type": "string"
            }
          },
          "metadata": {},
          "execution_count": 7
        }
      ]
    },
    {
      "cell_type": "markdown",
      "source": [
        "2.Call with Default Value\n",
        "\n"
      ],
      "metadata": {
        "id": "LVZw4X-0IS7j"
      }
    },
    {
      "cell_type": "code",
      "source": [
        "greet()  # Uses default \"Guest\"\n"
      ],
      "metadata": {
        "id": "gjSiWcv6IXwT",
        "outputId": "09575ada-dd18-4c76-956b-43a4efdb84ab",
        "colab": {
          "base_uri": "https://localhost:8080/",
          "height": 36
        }
      },
      "execution_count": 8,
      "outputs": [
        {
          "output_type": "execute_result",
          "data": {
            "text/plain": [
              "'Hello, Guest!'"
            ],
            "application/vnd.google.colaboratory.intrinsic+json": {
              "type": "string"
            }
          },
          "metadata": {},
          "execution_count": 8
        }
      ]
    },
    {
      "cell_type": "markdown",
      "source": [
        "3.Call with Keyword Arguments\n"
      ],
      "metadata": {
        "id": "o2SEYb7TIbdT"
      }
    },
    {
      "cell_type": "code",
      "source": [
        "greet(name=\"tanu\")\n"
      ],
      "metadata": {
        "id": "xvKyntZoIbJW",
        "outputId": "a731f479-42e3-4777-85a8-cc0a4a6e85e9",
        "colab": {
          "base_uri": "https://localhost:8080/",
          "height": 36
        }
      },
      "execution_count": 9,
      "outputs": [
        {
          "output_type": "execute_result",
          "data": {
            "text/plain": [
              "'Hello, tanu!'"
            ],
            "application/vnd.google.colaboratory.intrinsic+json": {
              "type": "string"
            }
          },
          "metadata": {},
          "execution_count": 9
        }
      ]
    },
    {
      "cell_type": "markdown",
      "source": [
        "4.Call with *args and **kwargs\n"
      ],
      "metadata": {
        "id": "MdyYq7D8IoYB"
      }
    },
    {
      "cell_type": "code",
      "source": [
        "args = (\"Charlie\",)\n",
        "kwargs = {\"name\": \"Diana\"}\n",
        "\n",
        "greet(*args)\n",
        "greet(**kwargs)\n"
      ],
      "metadata": {
        "id": "tF4gallwItSZ",
        "outputId": "24d6698d-e157-4136-812e-d1acfcc79208",
        "colab": {
          "base_uri": "https://localhost:8080/",
          "height": 36
        }
      },
      "execution_count": 10,
      "outputs": [
        {
          "output_type": "execute_result",
          "data": {
            "text/plain": [
              "'Hello, Diana!'"
            ],
            "application/vnd.google.colaboratory.intrinsic+json": {
              "type": "string"
            }
          },
          "metadata": {},
          "execution_count": 10
        }
      ]
    },
    {
      "cell_type": "markdown",
      "source": [
        "5.Calling a Lambda Function"
      ],
      "metadata": {
        "id": "hOz4IdPkIwwN"
      }
    },
    {
      "cell_type": "code",
      "source": [
        "print(square(5))  # Output: 25\n"
      ],
      "metadata": {
        "id": "CyILyUCLI03y",
        "outputId": "d75cf4dd-997b-4b44-9c49-3b371a7bb3bf",
        "colab": {
          "base_uri": "https://localhost:8080/"
        }
      },
      "execution_count": 11,
      "outputs": [
        {
          "output_type": "stream",
          "name": "stdout",
          "text": [
            "25\n"
          ]
        }
      ]
    },
    {
      "cell_type": "markdown",
      "source": [
        "6.Calling Method of an Object\n",
        "\n"
      ],
      "metadata": {
        "id": "GvjBLLMqI62Z"
      }
    },
    {
      "cell_type": "code",
      "source": [
        "p = Person()\n",
        "print(p.greet())\n"
      ],
      "metadata": {
        "id": "EKWnlgnYI2Aw",
        "outputId": "913e79a0-3354-435e-ef63-69c510bbb7c3",
        "colab": {
          "base_uri": "https://localhost:8080/"
        }
      },
      "execution_count": 12,
      "outputs": [
        {
          "output_type": "stream",
          "name": "stdout",
          "text": [
            "Hi!\n"
          ]
        }
      ]
    },
    {
      "cell_type": "markdown",
      "source": [
        "4) What is the purpose of the `return` statement in a Python function?\n",
        "\n",
        "Ans:-The purpose of the return statement in a Python function is to send a result back to the caller and end the function’s execution.\n",
        "\n",
        "🔹 Key Uses of return:\n",
        "\n",
        "1.Return a value from a function:\n",
        "\n"
      ],
      "metadata": {
        "id": "1oR7XVyXJERi"
      }
    },
    {
      "cell_type": "code",
      "source": [
        "def add(a, b):\n",
        "    return a + b\n",
        "\n",
        "result = add(3, 5)\n",
        "print(result)  # Output: 8\n"
      ],
      "metadata": {
        "id": "s81mv85WJdCf",
        "outputId": "3add0ee5-354a-4e4f-f4f9-b62f651c6115",
        "colab": {
          "base_uri": "https://localhost:8080/"
        }
      },
      "execution_count": 13,
      "outputs": [
        {
          "output_type": "stream",
          "name": "stdout",
          "text": [
            "8\n"
          ]
        }
      ]
    },
    {
      "cell_type": "markdown",
      "source": [
        "2.End function execution early:\n",
        "\n",
        ". return stops the function as soon as it's called.\n"
      ],
      "metadata": {
        "id": "qO_EIglbJdqp"
      }
    },
    {
      "cell_type": "code",
      "source": [
        "def check_even(n):\n",
        "    if n % 2 == 0:\n",
        "        return \"Even\"\n",
        "    return \"Odd\"\n"
      ],
      "metadata": {
        "id": "diAbHwuzJeKb"
      },
      "execution_count": 14,
      "outputs": []
    },
    {
      "cell_type": "markdown",
      "source": [
        "3.Return multiple values (as a tuple):\n",
        "\n"
      ],
      "metadata": {
        "id": "WZDCgwOqJeme"
      }
    },
    {
      "cell_type": "code",
      "source": [
        "def stats(x, y):\n",
        "    return x + y, x * y\n",
        "\n",
        "total, product = stats(2, 3)\n",
        "print(total, product)  # Output: 5 6\n"
      ],
      "metadata": {
        "id": "b4tLqj6eJfU_",
        "outputId": "7239d448-ec46-4df2-80e9-a159809d84e5",
        "colab": {
          "base_uri": "https://localhost:8080/"
        }
      },
      "execution_count": 15,
      "outputs": [
        {
          "output_type": "stream",
          "name": "stdout",
          "text": [
            "5 6\n"
          ]
        }
      ]
    },
    {
      "cell_type": "markdown",
      "source": [
        "4.Return nothing (None is returned by default if no return is used):\n",
        "\n"
      ],
      "metadata": {
        "id": "h8pFjo4LJf1x"
      }
    },
    {
      "cell_type": "code",
      "source": [
        "def say_hello():\n",
        "    print(\"Hello!\")\n",
        "\n",
        "result = say_hello()\n",
        "print(result)  # Output: None\n"
      ],
      "metadata": {
        "id": "kbi4zVdWKEsF",
        "outputId": "75b4b4f5-b2ac-4ee5-82bd-cbcda14f8dab",
        "colab": {
          "base_uri": "https://localhost:8080/"
        }
      },
      "execution_count": 16,
      "outputs": [
        {
          "output_type": "stream",
          "name": "stdout",
          "text": [
            "Hello!\n",
            "None\n"
          ]
        }
      ]
    },
    {
      "cell_type": "markdown",
      "source": [
        "5) What are iterators in Python and how do they differ from iterables?\n",
        "\n",
        "Ans:-In Python, iterators and iterables are key components of the iteration process, but they are not the same. Here's a clear breakdown:\n",
        "\n",
        "🔹 What is an Iterable?\n",
        "An iterable is any Python object capable of returning its elements one at a time. It implements the __iter__() method, which returns an iterator.\n",
        "\n",
        "📌 Examples of iterables: lists, tuples, strings, sets, dictionaries, and file objects.\n",
        "\n"
      ],
      "metadata": {
        "id": "96INBEaaKJ2R"
      }
    },
    {
      "cell_type": "code",
      "source": [
        "my_list = [1, 2, 3]  # This is an iterable\n",
        "for item in my_list:\n",
        "    print(item)\n"
      ],
      "metadata": {
        "id": "GvoyMm9BKatD",
        "outputId": "8bb44bdd-5547-49a3-902b-0820778bc945",
        "colab": {
          "base_uri": "https://localhost:8080/"
        }
      },
      "execution_count": 17,
      "outputs": [
        {
          "output_type": "stream",
          "name": "stdout",
          "text": [
            "1\n",
            "2\n",
            "3\n"
          ]
        }
      ]
    },
    {
      "cell_type": "markdown",
      "source": [
        "\n",
        "🔹 What is an Iterator?\n",
        "An iterator is an object that represents a stream of data. It implements both:\n",
        "\n",
        ".__iter__() – returns the iterator object itself.\n",
        "\n",
        ".__next__() – returns the next item or raises StopIteration when done.\n",
        "\n",
        "You can get an iterator from an iterable using iter().\n"
      ],
      "metadata": {
        "id": "iSbf9gi4Kcbp"
      }
    },
    {
      "cell_type": "code",
      "source": [
        "my_iter = iter([1, 2, 3])  # my_iter is an iterator\n",
        "print(next(my_iter))  # 1\n",
        "print(next(my_iter))  # 2\n"
      ],
      "metadata": {
        "id": "o6JzTxKSKpsp",
        "outputId": "4cccca84-afb1-40af-d9ab-e1354501e0fa",
        "colab": {
          "base_uri": "https://localhost:8080/"
        }
      },
      "execution_count": 18,
      "outputs": [
        {
          "output_type": "stream",
          "name": "stdout",
          "text": [
            "1\n",
            "2\n"
          ]
        }
      ]
    },
    {
      "cell_type": "markdown",
      "source": [
        "🔹 Example to illustrate the difference:\n",
        "\n"
      ],
      "metadata": {
        "id": "AfnNTu7gKxfK"
      }
    },
    {
      "cell_type": "code",
      "source": [
        "my_list = [10, 20, 30]       # Iterable\n",
        "my_iter = iter(my_list)      # Iterator created from iterable\n",
        "\n",
        "print(next(my_iter))  # Output: 10\n",
        "print(next(my_iter))  # Output: 20\n"
      ],
      "metadata": {
        "id": "pDI0u5akK0h2",
        "outputId": "cd68a843-07bb-49cd-9250-e5ddde45e30c",
        "colab": {
          "base_uri": "https://localhost:8080/"
        }
      },
      "execution_count": 19,
      "outputs": [
        {
          "output_type": "stream",
          "name": "stdout",
          "text": [
            "10\n",
            "20\n"
          ]
        }
      ]
    },
    {
      "cell_type": "markdown",
      "source": [
        "6) Explain the concept of generators in Python and how they are defined.\n",
        "\n",
        "Ans:-In Python, generators are a way to create iterators in a more concise and memory-efficient manner using the yield keyword.\n",
        "\n",
        "🔹 What is a Generator?\n",
        "A generator is a special type of iterator that generates values on the fly instead of storing them all in memory. This makes them ideal for working with large data sets or infinite sequences.\n",
        "\n",
        "Generators are defined like normal functions but use **yield** instead of **return**.\n",
        "\n",
        "🔹 How Are Generators Defined?\n",
        "You define a generator using a function and the yield keyword:\n",
        "\n"
      ],
      "metadata": {
        "id": "RuaRCfV0K7Vg"
      }
    },
    {
      "cell_type": "code",
      "source": [
        "def count_up_to(n):\n",
        "    count = 1\n",
        "    while count <= n:\n",
        "        yield count\n",
        "        count += 1\n"
      ],
      "metadata": {
        "id": "KnDtR3NDLOs2"
      },
      "execution_count": 20,
      "outputs": []
    },
    {
      "cell_type": "markdown",
      "source": [
        "This function doesn't return all numbers at once. It yields one number at a time, pausing between each until the next value is requested.\n",
        "\n",
        "🔹 Using a Generator:\n"
      ],
      "metadata": {
        "id": "NdQe6pmbLQXy"
      }
    },
    {
      "cell_type": "code",
      "source": [
        "gen = count_up_to(3)\n",
        "\n",
        "print(next(gen))  # Output: 1\n",
        "print(next(gen))  # Output: 2\n",
        "print(next(gen))  # Output: 3\n",
        "# next(gen) now would raise StopIteration\n"
      ],
      "metadata": {
        "id": "KzYqIP3nLY2P",
        "outputId": "efad69a1-e1a1-46d2-bdb2-5a1c82039c58",
        "colab": {
          "base_uri": "https://localhost:8080/"
        }
      },
      "execution_count": 21,
      "outputs": [
        {
          "output_type": "stream",
          "name": "stdout",
          "text": [
            "1\n",
            "2\n",
            "3\n"
          ]
        }
      ]
    },
    {
      "cell_type": "markdown",
      "source": [
        "Or in a loop:\n",
        "\n"
      ],
      "metadata": {
        "id": "uE-McJN9LcTC"
      }
    },
    {
      "cell_type": "code",
      "source": [
        "for num in count_up_to(3):\n",
        "    print(num)\n"
      ],
      "metadata": {
        "id": "GQwFPH5SLbyz",
        "outputId": "517050d1-7e38-4100-a688-fcd6bc5002a5",
        "colab": {
          "base_uri": "https://localhost:8080/"
        }
      },
      "execution_count": 22,
      "outputs": [
        {
          "output_type": "stream",
          "name": "stdout",
          "text": [
            "1\n",
            "2\n",
            "3\n"
          ]
        }
      ]
    },
    {
      "cell_type": "markdown",
      "source": [
        "✅ Advantages of Generators:\n",
        "\n",
        "\n",
        "Feature                               \tBenefit\n",
        "Memory efficient                  \t    Generates values one at a time\n",
        "Lazy evaluation\t                        Computes values only as needed\n",
        "Can represent infinite sequences\t      Yes (e.g., Fibonacci, streaming data)\n",
        "Cleaner syntax than custom iterators\t \tEasier to write and maintain\n",
        "\n",
        "\n",
        " 🔸 Generator Expression (Short Form)\n",
        "Similar to list comprehensions but with () instead of []:\n",
        "\n"
      ],
      "metadata": {
        "id": "wcsbyHg2LkvG"
      }
    },
    {
      "cell_type": "code",
      "source": [
        "gen = (x * x for x in range(5))\n",
        "print(next(gen))  # Output: 0\n",
        "\n"
      ],
      "metadata": {
        "id": "PGbMPXpWMJEu",
        "outputId": "3c338f2f-573f-4d07-e8df-a69cddcad224",
        "colab": {
          "base_uri": "https://localhost:8080/"
        }
      },
      "execution_count": 23,
      "outputs": [
        {
          "output_type": "stream",
          "name": "stdout",
          "text": [
            "0\n"
          ]
        }
      ]
    },
    {
      "cell_type": "markdown",
      "source": [
        "7) What are the advantages of using generators over regular functions?\n",
        "\n",
        "Ans:-Generators offer several key advantages over regular functions—especially when working with large datasets or infinite sequences. Here's a breakdown of the main benefits:\n",
        "\n",
        "✅ 1. Memory Efficiency\n",
        "Generators don’t store all values in memory. They generate each value on demand, which is ideal for processing large or infinite data streams.\n",
        "\n",
        "Example:\n"
      ],
      "metadata": {
        "id": "1z-6PM4uMKrw"
      }
    },
    {
      "cell_type": "code",
      "source": [
        "def count_up_to(n):\n",
        "    for i in range(n):\n",
        "        yield i  # Yields one value at a time\n"
      ],
      "metadata": {
        "id": "tq75xhkrMxcI"
      },
      "execution_count": 24,
      "outputs": []
    },
    {
      "cell_type": "markdown",
      "source": [
        "Compare that to a regular function that returns a list:\n"
      ],
      "metadata": {
        "id": "jP0Hde3vMzF7"
      }
    },
    {
      "cell_type": "code",
      "source": [
        "def count_up_to(n):\n",
        "    return [i for i in range(n)]  # Loads all values at once\n"
      ],
      "metadata": {
        "id": "rA4dDzb-M7dN"
      },
      "execution_count": 25,
      "outputs": []
    },
    {
      "cell_type": "markdown",
      "source": [
        "✅ 2. Lazy Evaluation\n",
        "Generators produce values only when needed, which can improve performance in scenarios where not all results are required immediately.\n",
        "\n",
        "✅ 3. Infinite Sequences\n",
        "You can use generators to define infinite loops safely, since they don’t allocate memory for all potential values at once.\n",
        "\n"
      ],
      "metadata": {
        "id": "5KRJ2TVTM89c"
      }
    },
    {
      "cell_type": "code",
      "source": [
        "def infinite_counter():\n",
        "    i = 0\n",
        "    while True:\n",
        "        yield i\n",
        "        i += 1\n"
      ],
      "metadata": {
        "id": "pdZLixHJND3G"
      },
      "execution_count": 26,
      "outputs": []
    },
    {
      "cell_type": "markdown",
      "source": [
        "✅ 4. Cleaner, More Readable Code\n",
        "Generators simplify code for iterators by eliminating the need to implement __iter__() and __next__() methods manually.\n"
      ],
      "metadata": {
        "id": "dZSMTMK7NMn6"
      }
    },
    {
      "cell_type": "code",
      "source": [
        "# Generator version\n",
        "def fibonacci():\n",
        "    a, b = 0, 1\n",
        "    while True:\n",
        "        yield a\n",
        "        a, b = b, a + b\n"
      ],
      "metadata": {
        "id": "q2OGLVusNRrL"
      },
      "execution_count": 27,
      "outputs": []
    },
    {
      "cell_type": "markdown",
      "source": [
        "✅ 5. Better Performance in Loops\n",
        "Generators integrate naturally with for loops and other iteration contexts, keeping your code efficient and Pythonic.\n",
        "\n",
        "\n",
        "\n",
        "8) What is a lambda function in Python and when is it typically used?\n",
        "\n",
        "Ans:-A lambda function in Python is a small anonymous function defined using the lambda keyword instead of def. It's typically used for short, simple operations, especially where a full function definition would be unnecessary or clutter the code.\n",
        "\n",
        "🔹 Syntax of a Lambda Function:\n"
      ],
      "metadata": {
        "id": "hMW0CP-2NWGQ"
      }
    },
    {
      "cell_type": "code",
      "source": [
        "lambda arguments: expression\n"
      ],
      "metadata": {
        "id": "qZ1RqvBVNpQC",
        "outputId": "e612ffbb-b8ae-4525-ad87-ab7f93f585d0",
        "colab": {
          "base_uri": "https://localhost:8080/"
        }
      },
      "execution_count": 28,
      "outputs": [
        {
          "output_type": "execute_result",
          "data": {
            "text/plain": [
              "<function __main__.<lambda>(arguments)>"
            ]
          },
          "metadata": {},
          "execution_count": 28
        }
      ]
    },
    {
      "cell_type": "markdown",
      "source": [
        "Example"
      ],
      "metadata": {
        "id": "nM6FLNKlNqn7"
      }
    },
    {
      "cell_type": "code",
      "source": [
        "square = lambda x: x * x\n",
        "print(square(5))  # Output: 25\n"
      ],
      "metadata": {
        "id": "bnwziR1zNuHv",
        "outputId": "6996a4ca-c7e0-433b-db39-ce7bb83aeb98",
        "colab": {
          "base_uri": "https://localhost:8080/"
        }
      },
      "execution_count": 29,
      "outputs": [
        {
          "output_type": "stream",
          "name": "stdout",
          "text": [
            "25\n"
          ]
        }
      ]
    },
    {
      "cell_type": "markdown",
      "source": [
        "This is equivalent to:"
      ],
      "metadata": {
        "id": "EmSN1K_pNw8m"
      }
    },
    {
      "cell_type": "code",
      "source": [
        "def square(x):\n",
        "    return x * x\n"
      ],
      "metadata": {
        "id": "Dd1zW-T7Nzox"
      },
      "execution_count": 30,
      "outputs": []
    },
    {
      "cell_type": "markdown",
      "source": [
        "✅ Common Use Cases:\n",
        "\n",
        "1.Used with functions like map(), filter(), and sorted():\n",
        ":\n"
      ],
      "metadata": {
        "id": "x_ib_yECN2gx"
      }
    },
    {
      "cell_type": "code",
      "source": [
        "nums = [1, 2, 3, 4, 5]\n",
        "\n",
        "# Double each number\n",
        "doubled = list(map(lambda x: x * 2, nums))  # [2, 4, 6, 8, 10]\n",
        "\n",
        "# Filter even numbers\n",
        "evens = list(filter(lambda x: x % 2 == 0, nums))  # [2, 4]\n"
      ],
      "metadata": {
        "id": "ddvPjCJUOA5f"
      },
      "execution_count": 31,
      "outputs": []
    },
    {
      "cell_type": "markdown",
      "source": [
        "2.As a short callback or key function:\n",
        "\n",
        "\n"
      ],
      "metadata": {
        "id": "ukNImyBBODm5"
      }
    },
    {
      "cell_type": "code",
      "source": [
        "names = [\"Bob\", \"Alice\", \"Eve\"]\n",
        "sorted_names = sorted(names, key=lambda name: len(name))  # Sorted by name length\n"
      ],
      "metadata": {
        "id": "x3cknlpYOKYE"
      },
      "execution_count": 32,
      "outputs": []
    },
    {
      "cell_type": "markdown",
      "source": [
        "3.In GUI or event-driven programming for quick handlers.\n",
        "\n",
        "⚠️ Limitations:\n",
        ",Lambda functions can only contain a single expression (no statements, loops, or multiple lines).\n",
        "\n",
        ".They're best used for simple tasks—complex logic should use def.\n",
        "\n",
        "\n",
        "9) Explain the purpose and usage of the `map()` function in Python.\n",
        "\n",
        "Ans:- The map() function in Python is used to apply a function to every item in an iterable (like a list, tuple, or string) and return a new map object (which is an iterator).\n",
        "\n",
        "✅ Purpose of map():\n",
        "To transform or process items in a collection without writing an explicit loop.\n",
        "\n",
        "🔹 Syntax:\n",
        "\n"
      ],
      "metadata": {
        "id": "mBZts8CxOMKu"
      }
    },
    {
      "cell_type": "code",
      "source": [
        "map(function, iterable)\n",
        "\n"
      ],
      "metadata": {
        "id": "ap34f2GNOwAF",
        "outputId": "9689e212-71d6-47f9-c6cc-0b9412b82faf",
        "colab": {
          "base_uri": "https://localhost:8080/",
          "height": 158
        }
      },
      "execution_count": 34,
      "outputs": [
        {
          "output_type": "error",
          "ename": "NameError",
          "evalue": "name 'function' is not defined",
          "traceback": [
            "\u001b[0;31m---------------------------------------------------------------------------\u001b[0m",
            "\u001b[0;31mNameError\u001b[0m                                 Traceback (most recent call last)",
            "\u001b[0;32m<ipython-input-34-4e5de267bd35>\u001b[0m in \u001b[0;36m<cell line: 0>\u001b[0;34m()\u001b[0m\n\u001b[0;32m----> 1\u001b[0;31m \u001b[0mmap\u001b[0m\u001b[0;34m(\u001b[0m\u001b[0mfunction\u001b[0m\u001b[0;34m,\u001b[0m \u001b[0miterable\u001b[0m\u001b[0;34m)\u001b[0m\u001b[0;34m\u001b[0m\u001b[0;34m\u001b[0m\u001b[0m\n\u001b[0m\u001b[1;32m      2\u001b[0m \u001b[0;34m\u001b[0m\u001b[0m\n",
            "\u001b[0;31mNameError\u001b[0m: name 'function' is not defined"
          ]
        }
      ]
    },
    {
      "cell_type": "markdown",
      "source": [
        ".function: a function (can be built-in, user-defined, or a lambda).\n",
        ".iterable: a sequence (list, tuple, etc.) whose items will be processed.\n",
        "\n",
        "\n",
        "🔹 Basic Example:\n",
        "\n",
        "\n"
      ],
      "metadata": {
        "id": "DXkU6DhWO2sT"
      }
    },
    {
      "cell_type": "code",
      "source": [
        "def square(x):\n",
        "    return x * x\n",
        "\n",
        "nums = [1, 2, 3, 4]\n",
        "squared = map(square, nums)\n",
        "\n",
        "print(list(squared))  # Output: [1, 4, 9, 16]\n"
      ],
      "metadata": {
        "id": "crmiM1BOPEd9",
        "outputId": "5b856c64-4113-4231-c846-a6c4266091ce",
        "colab": {
          "base_uri": "https://localhost:8080/"
        }
      },
      "execution_count": 35,
      "outputs": [
        {
          "output_type": "stream",
          "name": "stdout",
          "text": [
            "[1, 4, 9, 16]\n"
          ]
        }
      ]
    },
    {
      "cell_type": "markdown",
      "source": [
        "🔹 Using with Lambda:\n",
        "\n"
      ],
      "metadata": {
        "id": "M3NItLOjPGFZ"
      }
    },
    {
      "cell_type": "code",
      "source": [
        "nums = [1, 2, 3, 4]\n",
        "squared = map(lambda x: x * x, nums)\n",
        "print(list(squared))  # Output: [1, 4, 9, 16]\n"
      ],
      "metadata": {
        "id": "xRcdopfaPOJR",
        "outputId": "9eb94284-0193-4e4b-b246-dc388058ddff",
        "colab": {
          "base_uri": "https://localhost:8080/"
        }
      },
      "execution_count": 36,
      "outputs": [
        {
          "output_type": "stream",
          "name": "stdout",
          "text": [
            "[1, 4, 9, 16]\n"
          ]
        }
      ]
    },
    {
      "cell_type": "markdown",
      "source": [
        "🔹 Multiple Iterables:\n",
        "You can pass more than one iterable if the function takes multiple arguments:\n",
        "\n"
      ],
      "metadata": {
        "id": "38rJsWC5PPYG"
      }
    },
    {
      "cell_type": "code",
      "source": [
        "a = [1, 2, 3]\n",
        "b = [4, 5, 6]\n",
        "\n",
        "result = map(lambda x, y: x + y, a, b)\n",
        "print(list(result))  # Output: [5, 7, 9]\n"
      ],
      "metadata": {
        "id": "I2ys1o-hPX2j",
        "outputId": "f849ad70-1063-4803-a2df-6639e225a78e",
        "colab": {
          "base_uri": "https://localhost:8080/"
        }
      },
      "execution_count": 37,
      "outputs": [
        {
          "output_type": "stream",
          "name": "stdout",
          "text": [
            "[5, 7, 9]\n"
          ]
        }
      ]
    },
    {
      "cell_type": "markdown",
      "source": [
        "10) What is the difference between `map()`, `reduce()`, and `filter()` functions in Python?\n",
        "\n",
        "Ans:-The functions map(), reduce(), and filter() in Python are functional programming tools used to process iterables like lists or tuples. While they have some similarities, they each serve a distinct purpose:\n",
        "\n",
        "✅ map(function, iterable)\n",
        ".Purpose: Applies a function to every item in an iterable and returns a new iterable (map object).\n",
        ".Use case: Transforming data.\n",
        "\n",
        "Example:\n"
      ],
      "metadata": {
        "id": "aqTgX7iVPZ9S"
      }
    },
    {
      "cell_type": "code",
      "source": [
        "nums = [1, 2, 3]\n",
        "squared = list(map(lambda x: x * x, nums))  # [1, 4, 9]\n"
      ],
      "metadata": {
        "id": "kBbIsFRjPvG-"
      },
      "execution_count": 38,
      "outputs": []
    },
    {
      "cell_type": "markdown",
      "source": [
        "✅ filter(function, iterable)\n",
        ".Purpose: Filters items from an iterable based on a boolean condition (function that returns True or False).\n",
        ".Use case: Selecting elements.\n",
        "\n",
        "Example:"
      ],
      "metadata": {
        "id": "lvk0FJZHPyfw"
      }
    },
    {
      "cell_type": "code",
      "source": [
        "nums = [1, 2, 3, 4]\n",
        "evens = list(filter(lambda x: x % 2 == 0, nums))  # [2, 4]\n"
      ],
      "metadata": {
        "id": "AXzAvHGtP4Cx"
      },
      "execution_count": 39,
      "outputs": []
    },
    {
      "cell_type": "markdown",
      "source": [
        "✅ reduce(function, iterable)\n",
        ".Purpose: Applies a function cumulatively to the items of an iterable, reducing it to a single value.\n",
        ".Use case: Aggregating data.\n",
        "\n",
        "Note: reduce() is part of the functools module.\n",
        "\n",
        "\n"
      ],
      "metadata": {
        "id": "Uer0wMzdP5VV"
      }
    },
    {
      "cell_type": "code",
      "source": [
        "from functools import reduce\n",
        "\n",
        "nums = [1, 2, 3, 4]\n",
        "product = reduce(lambda x, y: x * y, nums)  # 24\n"
      ],
      "metadata": {
        "id": "AmKnFerwQIc3"
      },
      "execution_count": 40,
      "outputs": []
    },
    {
      "cell_type": "markdown",
      "source": [
        "11) Using pen & Paper write the internal mechanism for sum operation using reduce function on this given\n",
        "list:[47,11,42,13];\n",
        "\n",
        "Ans:-![WhatsApp Image 2025-05-11 at 5.58.02 PM.jpeg](data:image/jpeg;base64,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)\n",
        "\n",
        "\n",
        "\n",
        "\n",
        "\n",
        "\n",
        "![WhatsApp Image 2025-05-11 at 5.58.03 PM.jpeg](data:image/jpeg;base64,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)\n",
        "\n",
        "\n",
        "\n",
        "\n",
        "\n",
        "\n"
      ],
      "metadata": {
        "id": "aRihLc9MQMYB"
      }
    },
    {
      "cell_type": "markdown",
      "source": [
        "1) Write a Python function that takes a list of numbers as input and returns the sum of all even numbers in\n",
        "the list.\n",
        "\n",
        "\n",
        "Ans:-Here’s a simple Python function that takes a list of numbers and returns the sum of all even numbers in the list:\n",
        "\n",
        "\n"
      ],
      "metadata": {
        "id": "RlovxpyXVhxE"
      }
    },
    {
      "cell_type": "code",
      "source": [
        "def sum_of_evens(numbers):\n",
        "    return sum(num for num in numbers if num % 2 == 0)\n"
      ],
      "metadata": {
        "id": "r9b-2TbcYh4I"
      },
      "execution_count": 41,
      "outputs": []
    },
    {
      "cell_type": "markdown",
      "source": [
        "✅ Example Usage:\n"
      ],
      "metadata": {
        "id": "5m_ySI_AZ_0g"
      }
    },
    {
      "cell_type": "code",
      "source": [
        "my_list = [10, 15, 22, 33, 40]\n",
        "result = sum_of_evens(my_list)\n",
        "print(\"Sum of even numbers:\", result)  # Output: 72\n"
      ],
      "metadata": {
        "id": "F2jgJ7AgaIRm",
        "outputId": "a4937512-3fdd-4841-8d3e-c6f3116bb2ec",
        "colab": {
          "base_uri": "https://localhost:8080/"
        }
      },
      "execution_count": 42,
      "outputs": [
        {
          "output_type": "stream",
          "name": "stdout",
          "text": [
            "Sum of even numbers: 72\n"
          ]
        }
      ]
    },
    {
      "cell_type": "markdown",
      "source": [
        "2) Create a Python function that accepts a string and returns the reverse of that string.\n",
        "\n",
        "Ans:-Here’s a simple Python function that accepts a string and returns its reverse:\n"
      ],
      "metadata": {
        "id": "b1xZnOqXaLqj"
      }
    },
    {
      "cell_type": "code",
      "source": [
        "def reverse_string(text):\n",
        "    return text[::-1]\n"
      ],
      "metadata": {
        "id": "OgZeJmNcachO"
      },
      "execution_count": 43,
      "outputs": []
    },
    {
      "cell_type": "markdown",
      "source": [
        "✅ Example Usage:"
      ],
      "metadata": {
        "id": "etraHoSRafTt"
      }
    },
    {
      "cell_type": "code",
      "source": [
        "result = reverse_string(\"Python\")\n",
        "print(\"Reversed string:\", result)  # Output: \"nohtyP\"\n"
      ],
      "metadata": {
        "id": "_gyGllQsajbp",
        "outputId": "3852d4e9-255b-4370-cad2-b1dcca506898",
        "colab": {
          "base_uri": "https://localhost:8080/"
        }
      },
      "execution_count": 44,
      "outputs": [
        {
          "output_type": "stream",
          "name": "stdout",
          "text": [
            "Reversed string: nohtyP\n"
          ]
        }
      ]
    },
    {
      "cell_type": "markdown",
      "source": [
        "3) Implement a Python function that takes a list of integers and returns a new list containing the squares of\n",
        "each number.\n",
        "\n",
        "Ans:- Here’s a Python function that takes a list of integers and returns a new list containing the squares of each number:\n",
        "\n"
      ],
      "metadata": {
        "id": "-4qDfJ6Eamdf"
      }
    },
    {
      "cell_type": "code",
      "source": [
        "def square_numbers(numbers):\n",
        "    return [num ** 2 for num in numbers]\n"
      ],
      "metadata": {
        "id": "8lrRuswda2Y8"
      },
      "execution_count": 45,
      "outputs": []
    },
    {
      "cell_type": "markdown",
      "source": [
        "✅ Example Usage:\n"
      ],
      "metadata": {
        "id": "z8C57Ee_a5E0"
      }
    },
    {
      "cell_type": "code",
      "source": [
        "my_list = [1, 2, 3, 4, 5]\n",
        "result = square_numbers(my_list)\n",
        "print(\"Squared list:\", result)  # Output: [1, 4, 9, 16, 25]\n"
      ],
      "metadata": {
        "id": "K5yHqT1Ya9pZ",
        "outputId": "f7849bec-cb3e-4681-88c0-43bc4941f032",
        "colab": {
          "base_uri": "https://localhost:8080/"
        }
      },
      "execution_count": 46,
      "outputs": [
        {
          "output_type": "stream",
          "name": "stdout",
          "text": [
            "Squared list: [1, 4, 9, 16, 25]\n"
          ]
        }
      ]
    },
    {
      "cell_type": "markdown",
      "source": [
        "4) Write a Python function that checks if a given number is prime or not from 1 to 200.\n",
        "\n",
        "Ans:-Here's a Python function that checks whether a given number between 1 and 200 is prime:\n",
        "\n"
      ],
      "metadata": {
        "id": "uxRPEo0fbAsj"
      }
    },
    {
      "cell_type": "code",
      "source": [
        "def is_prime(n):\n",
        "    if n < 2 or n > 200:\n",
        "        return False  # Out of range or not prime\n",
        "    for i in range(2, int(n**0.5) + 1):\n",
        "        if n % i == 0:\n",
        "            return False\n",
        "    return True\n"
      ],
      "metadata": {
        "id": "2Jik51EybOPP"
      },
      "execution_count": 47,
      "outputs": []
    },
    {
      "cell_type": "markdown",
      "source": [
        "✅ Example Usage:\n"
      ],
      "metadata": {
        "id": "TqPyf2I4bQ0R"
      }
    },
    {
      "cell_type": "code",
      "source": [
        "print(is_prime(7))     # Output: True\n",
        "print(is_prime(100))   # Output: False\n",
        "print(is_prime(199))   # Output: True\n",
        "print(is_prime(201))   # Output: False (out of range)\n"
      ],
      "metadata": {
        "id": "iefJdNcHbUcC",
        "outputId": "1b597d69-832d-49d7-e8c1-0823afb23995",
        "colab": {
          "base_uri": "https://localhost:8080/"
        }
      },
      "execution_count": 48,
      "outputs": [
        {
          "output_type": "stream",
          "name": "stdout",
          "text": [
            "True\n",
            "False\n",
            "True\n",
            "False\n"
          ]
        }
      ]
    },
    {
      "cell_type": "markdown",
      "source": [
        "5) Create an iterator class in Python that generates the Fibonacci sequence up to a specified number of\n",
        "terms.\n",
        "\n",
        "Ans:- Here's how you can create a custom iterator class in Python to generate the Fibonacci sequence up to a specified number of terms:\n",
        "\n",
        "✅ Fibonacci Iterator Class:\n"
      ],
      "metadata": {
        "id": "pXdaIK9CbXYM"
      }
    },
    {
      "cell_type": "code",
      "source": [
        "class FibonacciIterator:\n",
        "    def __init__(self, max_terms):\n",
        "        self.max_terms = max_terms\n",
        "        self.count = 0\n",
        "        self.a = 0\n",
        "        self.b = 1\n",
        "\n",
        "    def __iter__(self):\n",
        "        return self\n",
        "\n",
        "    def __next__(self):\n",
        "        if self.count >= self.max_terms:\n",
        "            raise StopIteration\n",
        "        if self.count == 0:\n",
        "            self.count += 1\n",
        "            return 0\n",
        "        elif self.count == 1:\n",
        "            self.count += 1\n",
        "            return 1\n",
        "        else:\n",
        "            self.count += 1\n",
        "            self.a, self.b = self.b, self.a + self.b\n",
        "            return self.a\n"
      ],
      "metadata": {
        "id": "xPjlxafHbt4o"
      },
      "execution_count": 49,
      "outputs": []
    },
    {
      "cell_type": "markdown",
      "source": [
        "✅ Example Usage:\n"
      ],
      "metadata": {
        "id": "7e5f-8bsbxpQ"
      }
    },
    {
      "cell_type": "code",
      "source": [
        "fib = FibonacciIterator(10)\n",
        "\n",
        "for num in fib:\n",
        "    print(num, end=\" \")\n"
      ],
      "metadata": {
        "id": "UQFVbg27b1cj",
        "outputId": "67346868-73c9-47d6-eed3-f670eb5d03ef",
        "colab": {
          "base_uri": "https://localhost:8080/"
        }
      },
      "execution_count": 50,
      "outputs": [
        {
          "output_type": "stream",
          "name": "stdout",
          "text": [
            "0 1 1 1 2 3 5 8 13 21 "
          ]
        }
      ]
    },
    {
      "cell_type": "markdown",
      "source": [
        "6) Write a generator function in Python that yields the powers of 2 up to a given exponent.\n",
        "\n",
        "Ans:-Sure! Here's a generator function in Python that yields the powers of 2 from 2⁰ up to 2^n for a given exponent n:\n",
        "\n",
        "✅ Generator Function: powers_of_two\n"
      ],
      "metadata": {
        "id": "3b9R2gpBb7CT"
      }
    },
    {
      "cell_type": "code",
      "source": [
        "def powers_of_two(max_exponent):\n",
        "    for exp in range(max_exponent + 1):\n",
        "        yield 2 ** exp\n"
      ],
      "metadata": {
        "id": "nKABWUwkcLfv"
      },
      "execution_count": 51,
      "outputs": []
    },
    {
      "cell_type": "markdown",
      "source": [
        "✅ Example Usage:\n"
      ],
      "metadata": {
        "id": "GhRjzSUmcM2t"
      }
    },
    {
      "cell_type": "code",
      "source": [
        "for power in powers_of_two(5):\n",
        "    print(power)\n"
      ],
      "metadata": {
        "id": "GO_gWPXycR3J",
        "outputId": "17bb5a8d-55d6-41ef-80db-7e4bfeb05d0a",
        "colab": {
          "base_uri": "https://localhost:8080/"
        }
      },
      "execution_count": 52,
      "outputs": [
        {
          "output_type": "stream",
          "name": "stdout",
          "text": [
            "1\n",
            "2\n",
            "4\n",
            "8\n",
            "16\n",
            "32\n"
          ]
        }
      ]
    },
    {
      "cell_type": "markdown",
      "source": [
        "7) Implement a generator function that reads a file line by line and yields each line as a string.\n",
        "\n",
        "Ans:-Here's a simple and efficient generator function that reads a file line by line and yields each line as a string:\n",
        "\n",
        "✅ Generator Function: read_file_line_by_line\n",
        "\n"
      ],
      "metadata": {
        "id": "Qw390ooKn8Tu"
      }
    },
    {
      "cell_type": "code",
      "source": [
        "def read_file_line_by_line(filename):\n",
        "    with open(filename, 'r') as file:\n",
        "        for line in file:\n",
        "            yield line.strip()  # remove trailing newline characters\n"
      ],
      "metadata": {
        "id": "MdreUyYtoLeX"
      },
      "execution_count": 65,
      "outputs": []
    },
    {
      "cell_type": "markdown",
      "source": [
        "✅ Example Usage:\n"
      ],
      "metadata": {
        "id": "4ExJ-L4foPud"
      }
    },
    {
      "cell_type": "code",
      "source": [
        "for line in read_file_line_by_line('example.txt'):\n",
        "    print(line)\n"
      ],
      "metadata": {
        "id": "yX281vPIoRZN",
        "outputId": "afce5afb-227c-4a64-def8-40b0ef1f1b3f",
        "colab": {
          "base_uri": "https://localhost:8080/",
          "height": 263
        }
      },
      "execution_count": 66,
      "outputs": [
        {
          "output_type": "error",
          "ename": "FileNotFoundError",
          "evalue": "[Errno 2] No such file or directory: 'example.txt'",
          "traceback": [
            "\u001b[0;31m---------------------------------------------------------------------------\u001b[0m",
            "\u001b[0;31mFileNotFoundError\u001b[0m                         Traceback (most recent call last)",
            "\u001b[0;32m<ipython-input-66-0fe14d074b1f>\u001b[0m in \u001b[0;36m<cell line: 0>\u001b[0;34m()\u001b[0m\n\u001b[0;32m----> 1\u001b[0;31m \u001b[0;32mfor\u001b[0m \u001b[0mline\u001b[0m \u001b[0;32min\u001b[0m \u001b[0mread_file_line_by_line\u001b[0m\u001b[0;34m(\u001b[0m\u001b[0;34m'example.txt'\u001b[0m\u001b[0;34m)\u001b[0m\u001b[0;34m:\u001b[0m\u001b[0;34m\u001b[0m\u001b[0;34m\u001b[0m\u001b[0m\n\u001b[0m\u001b[1;32m      2\u001b[0m     \u001b[0mprint\u001b[0m\u001b[0;34m(\u001b[0m\u001b[0mline\u001b[0m\u001b[0;34m)\u001b[0m\u001b[0;34m\u001b[0m\u001b[0;34m\u001b[0m\u001b[0m\n",
            "\u001b[0;32m<ipython-input-65-e101d0337f6c>\u001b[0m in \u001b[0;36mread_file_line_by_line\u001b[0;34m(filename)\u001b[0m\n\u001b[1;32m      1\u001b[0m \u001b[0;32mdef\u001b[0m \u001b[0mread_file_line_by_line\u001b[0m\u001b[0;34m(\u001b[0m\u001b[0mfilename\u001b[0m\u001b[0;34m)\u001b[0m\u001b[0;34m:\u001b[0m\u001b[0;34m\u001b[0m\u001b[0;34m\u001b[0m\u001b[0m\n\u001b[0;32m----> 2\u001b[0;31m     \u001b[0;32mwith\u001b[0m \u001b[0mopen\u001b[0m\u001b[0;34m(\u001b[0m\u001b[0mfilename\u001b[0m\u001b[0;34m,\u001b[0m \u001b[0;34m'r'\u001b[0m\u001b[0;34m)\u001b[0m \u001b[0;32mas\u001b[0m \u001b[0mfile\u001b[0m\u001b[0;34m:\u001b[0m\u001b[0;34m\u001b[0m\u001b[0;34m\u001b[0m\u001b[0m\n\u001b[0m\u001b[1;32m      3\u001b[0m         \u001b[0;32mfor\u001b[0m \u001b[0mline\u001b[0m \u001b[0;32min\u001b[0m \u001b[0mfile\u001b[0m\u001b[0;34m:\u001b[0m\u001b[0;34m\u001b[0m\u001b[0;34m\u001b[0m\u001b[0m\n\u001b[1;32m      4\u001b[0m             \u001b[0;32myield\u001b[0m \u001b[0mline\u001b[0m\u001b[0;34m.\u001b[0m\u001b[0mstrip\u001b[0m\u001b[0;34m(\u001b[0m\u001b[0;34m)\u001b[0m  \u001b[0;31m# remove trailing newline characters\u001b[0m\u001b[0;34m\u001b[0m\u001b[0;34m\u001b[0m\u001b[0m\n",
            "\u001b[0;31mFileNotFoundError\u001b[0m: [Errno 2] No such file or directory: 'example.txt'"
          ]
        }
      ]
    },
    {
      "cell_type": "markdown",
      "source": [
        "8) Use a lambda function in Python to sort a list of tuples based on the second element of each tuple.\n",
        "\n",
        "Ans:-Sure! Here's how you can use a lambda function to sort a list of tuples based on the second element of each tuple:\n",
        "\n",
        "✅ Example Code:\n"
      ],
      "metadata": {
        "id": "mpkUFZp4oU9G"
      }
    },
    {
      "cell_type": "code",
      "source": [
        "# List of tuples\n",
        "items = [(1, 3), (2, 1), (4, 2), (3, 5)]\n",
        "\n",
        "# Sort based on the second element of each tuple\n",
        "sorted_items = sorted(items, key=lambda x: x[1])\n",
        "\n",
        "print(sorted_items)\n"
      ],
      "metadata": {
        "id": "GqNlQomZokD-",
        "outputId": "f9d78386-f78d-4775-be8f-a6f9bbd5e017",
        "colab": {
          "base_uri": "https://localhost:8080/"
        }
      },
      "execution_count": 67,
      "outputs": [
        {
          "output_type": "stream",
          "name": "stdout",
          "text": [
            "[(2, 1), (4, 2), (1, 3), (3, 5)]\n"
          ]
        }
      ]
    },
    {
      "cell_type": "markdown",
      "source": [
        "9) Write a Python program that uses `map()` to convert a list of temperatures from Celsius to Fahrenheit.\n",
        "\n",
        "Ans:-Sure! Here's a Python program that uses the map() function to convert a list of temperatures from Celsius to Fahrenheit.\n",
        "\n",
        "✅ Formula:\n",
        "\n",
        "F=(C× 5/9 )+32\n",
        "\n",
        "✅ Example Code:\n",
        "\n",
        "\n"
      ],
      "metadata": {
        "id": "5wfB59TxoopH"
      }
    },
    {
      "cell_type": "code",
      "source": [
        "# List of temperatures in Celsius\n",
        "celsius = [0, 20, 37, 100]\n",
        "\n",
        "# Use map() with a lambda function to convert to Fahrenheit\n",
        "fahrenheit = list(map(lambda c: (c * 9/5) + 32, celsius))\n",
        "\n",
        "# Print the result\n",
        "print(\"Temperatures in Fahrenheit:\", fahrenheit)\n"
      ],
      "metadata": {
        "id": "67FSxIO-pKn7",
        "outputId": "bf787860-25fb-4b4f-d971-eeb838c2f0f9",
        "colab": {
          "base_uri": "https://localhost:8080/"
        }
      },
      "execution_count": 68,
      "outputs": [
        {
          "output_type": "stream",
          "name": "stdout",
          "text": [
            "Temperatures in Fahrenheit: [32.0, 68.0, 98.6, 212.0]\n"
          ]
        }
      ]
    },
    {
      "cell_type": "markdown",
      "source": [
        "10) Create a Python program that uses `filter()` to remove all the vowels from a given string.\n",
        "\n",
        "Ans:- Sure! Here's a Python program that uses the filter() function to remove all vowels from a given string:\n",
        "\n",
        "✅ Program Using filter():\n"
      ],
      "metadata": {
        "id": "Y9JYiS4spNHi"
      }
    },
    {
      "cell_type": "code",
      "source": [
        "def remove_vowels(text):\n",
        "    vowels = 'aeiouAEIOU'\n",
        "    return ''.join(filter(lambda char: char not in vowels, text))\n",
        "\n",
        "# Example usage\n",
        "input_string = \"Hello World\"\n",
        "result = remove_vowels(input_string)\n",
        "print(\"String without vowels:\", result)\n"
      ],
      "metadata": {
        "id": "WmnP5_hwoqQq",
        "outputId": "c55b11bf-f057-4c33-93b3-7e36a44fc7ac",
        "colab": {
          "base_uri": "https://localhost:8080/"
        }
      },
      "execution_count": 69,
      "outputs": [
        {
          "output_type": "stream",
          "name": "stdout",
          "text": [
            "String without vowels: Hll Wrld\n"
          ]
        }
      ]
    },
    {
      "cell_type": "markdown",
      "source": [
        "11) Imagine an accounting routine used in a book shop. It works on a list with sublists, which look like this:\n",
        "\n",
        "Write a Python program, which returns a list with 2-tuples. Each tuple consists of the order number and the\n",
        "product of the price per item and the quantity. The product should be increased by 10,- € if the value of the\n",
        "order is smaller than 100,00 €.\n",
        "\n",
        "Write a Python program using lambda and map.\n",
        "\n",
        "\n",
        "Ans:- Sure! Let's solve the problem using lambda and map().\n",
        "\n",
        "✅ Problem Breakdown\n",
        "Given a list of orders like:\n",
        "\n",
        "\n",
        "\n"
      ],
      "metadata": {
        "id": "ZzZ54A5xpfZ1"
      }
    },
    {
      "cell_type": "code",
      "source": [
        "orders = [\n",
        "    [34587, \"Learning Python, Mark Lutz\", 4, 40.95],\n",
        "    [98762, \"Programming Python, Mark Lutz\", 5, 56.80],\n",
        "    [77226, \"Head First Python, Paul Barry\", 3, 32.95],\n",
        "    [88112, \"Einführung in Python3, Bernd Klein\", 3, 24.99]\n",
        "]\n"
      ],
      "metadata": {
        "id": "FbflUVM6rP8-"
      },
      "execution_count": 71,
      "outputs": []
    },
    {
      "cell_type": "markdown",
      "source": [
        "We need to:\n",
        "\n",
        "1.Calculate quantity * price.\n",
        "2.Add €10 if that product is < €100.\n",
        "3.Return a list of tuples: (order number, total amount).\n",
        "\n",
        "✅ Python Code Using map and lambda"
      ],
      "metadata": {
        "id": "Z6D9OMKkrSkH"
      }
    },
    {
      "cell_type": "code",
      "source": [
        "orders = [\n",
        "    [34587, \"Learning Python, Mark Lutz\", 4, 40.95],\n",
        "    [98762, \"Programming Python, Mark Lutz\", 5, 56.80],\n",
        "    [77226, \"Head First Python, Paul Barry\", 3, 32.95],\n",
        "    [88112, \"Einführung in Python3, Bernd Klein\", 3, 24.99]\n",
        "]\n",
        "\n",
        "result = list(map(\n",
        "    lambda order: (order[0], order[2] * order[3] if order[2] * order[3] >= 100 else order[2] * order[3] + 10),\n",
        "    orders\n",
        "))\n",
        "\n",
        "print(result)\n"
      ],
      "metadata": {
        "id": "x34eN7u-rch2",
        "outputId": "53e1b9ec-0b16-478c-fed7-9062857a1206",
        "colab": {
          "base_uri": "https://localhost:8080/"
        }
      },
      "execution_count": 72,
      "outputs": [
        {
          "output_type": "stream",
          "name": "stdout",
          "text": [
            "[(34587, 163.8), (98762, 284.0), (77226, 108.85000000000001), (88112, 84.97)]\n"
          ]
        }
      ]
    }
  ]
}